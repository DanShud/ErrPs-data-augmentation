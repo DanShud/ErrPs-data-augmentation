{
 "cells": [
  {
   "cell_type": "markdown",
   "id": "43578cbe",
   "metadata": {},
   "source": [
    "### followed : https://www.tensorflow.org/tutorials/generative/dcgan"
   ]
  },
  {
   "cell_type": "code",
   "execution_count": null,
   "id": "6df18dd7",
   "metadata": {},
   "outputs": [],
   "source": [
    "import models\n",
    "import tensorflow as tf \n",
    "import os\n",
    "import time\n",
    "import numpy as np"
   ]
  },
  {
   "cell_type": "code",
   "execution_count": null,
   "id": "773f9df6",
   "metadata": {},
   "outputs": [],
   "source": [
    "BUFFER_SIZE = 60000\n",
    "BATCH_SIZE = 64"
   ]
  },
  {
   "cell_type": "markdown",
   "id": "66398261",
   "metadata": {},
   "source": [
    "## Data preprocessing"
   ]
  },
  {
   "cell_type": "code",
   "execution_count": null,
   "id": "9b2b4d37",
   "metadata": {},
   "outputs": [],
   "source": [
    "# TODO\n",
    "def serialize_example(signal, label):\n",
    "    # Convert to tf.train.Example\n",
    "    feature = {\n",
    "        'signal': tf.train.Feature(float_list=tf.train.FloatList(value=signal.flatten())),\n",
    "        'label': tf.train.Feature(int64_list=tf.train.Int64List(value=[label]))\n",
    "    }\n",
    "    example_proto = tf.train.Example(features=tf.train.Features(feature=feature))\n",
    "    return example_proto.SerializeToString()\n",
    "\n",
    "if (\"tfrecords\" not in os.listdir(\"./\")): # no tf records \n",
    "\n",
    "    \n",
    "    for subject in os.listdir(\"./data\"): # iterate over subjects\n",
    "        with tf.io.TFRecordWriter(f'{subject}.tfrecord') as writer: # add tf_record for subject\n",
    "            with open(\"./data/\"+subject) as data_file:\n",
    "                for events in data_file.readlines():\n",
    "                        event_data = np.array(events.split(\",\"),dtype=float)\n",
    "                        signal = np.array(event_data[3:])\n",
    "                        label= np.array(event_data[0])\n",
    "                        serialized = serialize_example(signal, label)\n",
    "                        writer.write(serialize_example)\n",
    "\n",
    "\n",
    "                        \n",
    "                    \n",
    "\n",
    "\n",
    "# building train dataset \n",
    "dataset = tf.data.Dataset.list_files('data/tfrecords/*.tfrecord') # make data set \n",
    "train_dataset = tf.data.Dataset.from_tensor_slices(dataset  ).shuffle(BUFFER_SIZE).batch(BATCH_SIZE)"
   ]
  },
  {
   "cell_type": "markdown",
   "id": "b6e60431",
   "metadata": {},
   "source": [
    "## Model Initilization"
   ]
  },
  {
   "cell_type": "code",
   "execution_count": null,
   "id": "26ff739e",
   "metadata": {},
   "outputs": [],
   "source": [
    "generator = models.build_generator()\n",
    "critic = models.build_critic()\n",
    "\n"
   ]
  },
  {
   "cell_type": "markdown",
   "id": "c83da666",
   "metadata": {},
   "source": [
    "### Loss and optimizers"
   ]
  },
  {
   "cell_type": "code",
   "execution_count": null,
   "id": "2e13d4ee",
   "metadata": {},
   "outputs": [],
   "source": [
    "cross_entropy = tf.keras.losses.BinaryCrossentropy(from_logits=True)\n",
    "\n",
    "def critic_loss(real_output, fake_output):\n",
    "    real_loss = cross_entropy(tf.ones_like(real_output), real_output) \n",
    "    fake_loss = cross_entropy(tf.zeros_like(fake_output), fake_output) \n",
    "    total_loss = real_loss + fake_loss\n",
    "    return total_loss\n",
    "\n",
    "def generator_loss(fake_output):\n",
    "    return cross_entropy(tf.ones_like(fake_output), fake_output) \n",
    "\n",
    "\n",
    "\n",
    "generator_optimizer = tf.keras.optimizers.Adam(1e-4)\n",
    "critic_optimizer = tf.keras.optimizers.Adam(1e-4)"
   ]
  },
  {
   "cell_type": "markdown",
   "id": "3402cd7e",
   "metadata": {},
   "source": [
    "### Train utils"
   ]
  },
  {
   "cell_type": "code",
   "execution_count": null,
   "id": "aa0336b6",
   "metadata": {},
   "outputs": [],
   "source": [
    "EPOCHS = 50\n",
    "noise_dim = 100\n",
    "num_examples_to_generate = 16\n",
    "\n",
    "\n",
    "\n",
    "@tf.function\n",
    "def train_step(images):\n",
    "    noise = tf.random.normal([BATCH_SIZE, noise_dim])\n",
    "\n",
    "    with tf.GradientTape() as gen_tape, tf.GradientTape() as disc_tape:\n",
    "      generated_images = generator(noise, training=True)\n",
    "\n",
    "      real_output = critic(images, training=True)\n",
    "      fake_output = critic(generated_images, training=True)\n",
    "\n",
    "      gen_loss = generator_loss(fake_output)\n",
    "      disc_loss = critic_loss(real_output, fake_output)\n",
    "\n",
    "    gradients_of_generator = gen_tape.gradient(gen_loss, generator.trainable_variables)\n",
    "    gradients_of_discriminator = disc_tape.gradient(disc_loss, critic.trainable_variables)\n",
    "\n",
    "    generator_optimizer.apply_gradients(zip(gradients_of_generator, generator.trainable_variables))\n",
    "    critic_optimizer.apply_gradients(zip(gradients_of_discriminator, critic.trainable_variables))\n"
   ]
  },
  {
   "cell_type": "markdown",
   "id": "38e81378",
   "metadata": {},
   "source": [
    "## Training loop"
   ]
  },
  {
   "cell_type": "code",
   "execution_count": null,
   "id": "0f1c4067",
   "metadata": {},
   "outputs": [],
   "source": [
    "checkpoint_dir = './training_checkpoints'\n",
    "checkpoint_prefix = os.path.join(checkpoint_dir, \"ckpt\")\n",
    "checkpoint = tf.train.Checkpoint(generator_optimizer=generator_optimizer,\n",
    "                                 discriminator_optimizer=critic_optimizer,\n",
    "                                 generator=generator,\n",
    "                                 discriminator=critic)\n",
    "\n",
    "\n",
    "def train(dataset, epochs):\n",
    "  for epoch in range(epochs):\n",
    "    start = time.time()\n",
    "\n",
    "    for image_batch in dataset:\n",
    "      train_step(image_batch)\n",
    "\n",
    "    # Produce images for the GIF as you go\n",
    "   \n",
    "    # Save the model every 15 epochs\n",
    "    if (epoch + 1) % 15 == 0:\n",
    "      checkpoint.save(file_prefix = checkpoint_prefix)\n",
    "\n",
    "    print ('Time for epoch {} is {} sec'.format(epoch + 1, time.time()-start))\n",
    "\n",
    "    with open(\"gan_log.txt\",'a') as f:\n",
    "      f.write('Time for epoch {} is {} sec'.format(epoch + 1, time.time()-start))\n",
    "\n",
    "\n",
    "  \n"
   ]
  }
 ],
 "metadata": {
  "kernelspec": {
   "display_name": ".venv",
   "language": "python",
   "name": "python3"
  },
  "language_info": {
   "codemirror_mode": {
    "name": "ipython",
    "version": 3
   },
   "file_extension": ".py",
   "mimetype": "text/x-python",
   "name": "python",
   "nbconvert_exporter": "python",
   "pygments_lexer": "ipython3",
   "version": "3.12.3"
  }
 },
 "nbformat": 4,
 "nbformat_minor": 5
}
