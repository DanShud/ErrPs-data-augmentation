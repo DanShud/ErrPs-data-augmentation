{
 "cells": [
  {
   "cell_type": "markdown",
   "id": "803db168",
   "metadata": {},
   "source": [
    "\n",
    "### This code is used to converted EDF data file to \n",
    "**Author**: Dan Shudrneko"
   ]
  },
  {
   "cell_type": "markdown",
   "id": "fdd96378",
   "metadata": {},
   "source": [
    "This fundtion imports the data"
   ]
  },
  {
   "cell_type": "code",
   "execution_count": null,
   "id": "d9ecbded",
   "metadata": {
    "vscode": {
     "languageId": "python"
    }
   },
   "outputs": [
    {
     "ename": "",
     "evalue": "",
     "output_type": "error",
     "traceback": [
      "\u001b[1;31mFailed to start the Kernel. \n",
      "\u001b[1;31mThe kernel died. Error: ... View Jupyter <a href='command:jupyter.viewOutput'>log</a> for further details."
     ]
    }
   ],
   "source": [
    "import mne\n",
    "import os\n",
    "\n",
    "def read(path):\n",
    "    all_data = []\n",
    "    for filename in os.listdir(path):\n",
    "        data = mne.io.read_raw_edf(path, preload = True, infer_types = True)\n",
    "        all_data.append(data)\n",
    "    return all_data"
   ]
  },
  {
   "cell_type": "code",
   "execution_count": null,
   "id": "deb9392a",
   "metadata": {
    "vscode": {
     "languageId": "plaintext"
    }
   },
   "outputs": [],
   "source": [
    "path = \"../\"\n",
    "all_data = read(path)"
   ]
  }
 ],
 "metadata": {
  "kernelspec": {
   "display_name": "Xonsh",
   "language": "xonsh",
   "name": "xonsh"
  },
  "language_info": {
   "name": "xonsh"
  }
 },
 "nbformat": 4,
 "nbformat_minor": 5
}
